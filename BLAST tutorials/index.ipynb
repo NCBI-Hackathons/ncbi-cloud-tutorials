{
 "cells": [
  {
   "cell_type": "markdown",
   "metadata": {},
   "source": [
    "![NCBI](images/NCBI.png)"
   ]
  },
  {
   "cell_type": "markdown",
   "metadata": {},
   "source": [
    "# Notebooks for BLAST on Command Line and Integrating with Python\n",
    "\n",
    "These tutorials demonstrate useful resources for running BLAST+ on command line and with Python. Select a notebook from this index below to begin.\n",
    "\n",
    "----\n",
    "\n",
    "### Available Notebooks\n",
    "\n",
    "- [Simple Example of BLASTN Search](notebooks/blastn_amr_example_xRC.ipynb)\n",
    "- [BLAST on the Command Line and Integrating with Python](notebooks/BLAST%20on%20Command%20Line%20and%20Integrating%20with%20Python.ipynb)\n",
    "- [BLAST on the Command Line with Advanced Python](notebooks/BLAST%20on%20the%20Command%20Line%20with%20Advanced%20Python.ipynb)\n",
    "- [Searching for coding sequences in genomes using BLAST and Python](notebooks/Searching%20for%20coding%20sequences%20in%20genomes%20using%20BLAST%20and%20Python.ipynb)\n"
   ]
  },
  {
   "cell_type": "markdown",
   "metadata": {},
   "source": [
    "## References\n",
    "\n",
    "Large portions of these tutorials are taken from [Wayne's Bioinformatics Code Portal Blast Binder](https://github.com/fomightez/blast-binder). These tutorials should not be construed to be original or proprietary work of the National Center for Biotechnology Information or its affiliates. "
   ]
  }
 ],
 "metadata": {
  "kernelspec": {
   "display_name": "Python 2",
   "language": "python",
   "name": "python2"
  },
  "language_info": {
   "codemirror_mode": {
    "name": "ipython",
    "version": 2
   },
   "file_extension": ".py",
   "mimetype": "text/x-python",
   "name": "python",
   "nbconvert_exporter": "python",
   "pygments_lexer": "ipython2",
   "version": "2.7.15"
  }
 },
 "nbformat": 4,
 "nbformat_minor": 2
}
