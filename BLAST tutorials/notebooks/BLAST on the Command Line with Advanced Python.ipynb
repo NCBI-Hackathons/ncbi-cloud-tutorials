{
 "cells": [
  {
   "cell_type": "markdown",
   "metadata": {},
   "source": [
    "![NCBI](NCBI.png)"
   ]
  },
  {
   "cell_type": "markdown",
   "metadata": {},
   "source": [
    "# BLAST on the Command Line with Advanced Python\n",
    "\n",
    "This notebook builds on the previous one, [BLAST on the Command Line and Integrating with Python](BLAST%20on%20Command%20Line%20and%20Integrating%20with%20Python.ipynb#BLAST-on-the-Command-Line-and-Integrating-with-Python). \n",
    "\n",
    "In this tutorial, we'll see how advanced Python and Jupyter methods can speed up our analysis.\n",
    "\n",
    "-----"
   ]
  },
  {
   "cell_type": "markdown",
   "metadata": {},
   "source": [
    "## Preparation\n",
    "\n",
    "These commands will get the data, grab the `blast_to_df` script, and set up the database."
   ]
  },
  {
   "cell_type": "code",
   "execution_count": null,
   "metadata": {},
   "outputs": [],
   "source": [
    "!curl -O https://downloads.yeastgenome.org/sequence/S288C_reference/chromosomes/fasta/chrmt.fsa\n",
    "!curl -O https://raw.githubusercontent.com/fomightez/sequencework/master/blast-utilities/blast_to_df.py\n",
    "import pandas as pd\n",
    "!makeblastdb -in chrmt.fsa -dbtype nucl"
   ]
  },
  {
   "cell_type": "code",
   "execution_count": null,
   "metadata": {},
   "outputs": [],
   "source": [
    "%%bash\n",
    "curl -LO http://yjx1217.github.io/Yeast_PacBio_2016/data/Mitochondrial_Genome/S288C.mt.genome.fa.gz\n",
    "gunzip -f S288C.mt.genome.fa.gz\n",
    "mv S288C.mt.genome.fa S288c.mt.genome.fa\n",
    "curl -LO http://yjx1217.github.io/Yeast_PacBio_2016/data/Mitochondrial_Genome/SK1.mt.genome.fa.gz\n",
    "gunzip -f SK1.mt.genome.fa.gz\n",
    "curl -LO http://yjx1217.github.io/Yeast_PacBio_2016/data/Mitochondrial_Genome/Y12.mt.genome.fa.gz\n",
    "gunzip -f Y12.mt.genome.fa.gz\n",
    "var=$(echo \"S288c.mt.genome.fa\" | cut -d'.' --complement -f2-).mito\n",
    "sed -i \"1s/.*/>$var/\" S288c.mt.genome.fa\n",
    "var=$(echo \"SK1.mt.genome.fa\" | cut -d'.' --complement -f2-).mito\n",
    "sed -i \"1s/.*/>$var/\" SK1.mt.genome.fa\n",
    "var=$(echo \"Y12.mt.genome.fa\" | cut -d'.' --complement -f2-).mito\n",
    "sed -i \"1s/.*/>$var/\" Y12.mt.genome.fa"
   ]
  },
  {
   "cell_type": "markdown",
   "metadata": {},
   "source": [
    "Now you are prepared to run BLAST on the command line."
   ]
  },
  {
   "cell_type": "markdown",
   "metadata": {},
   "source": [
    "## BLAST results into Python without file intermediates\n",
    "\n",
    "Unlike in [the first notebook](BLAST%20on%20Command%20Line%20and%20Integrating%20with%20Python.ipynb#BLAST-on-the-Command-Line-and-Integrating-with-Python), here we will use the core function of the `blast_to_df.py` script for the options that involve no file intermediates. The next command will import `blast_to_df` into scope.\n"
   ]
  },
  {
   "cell_type": "code",
   "execution_count": null,
   "metadata": {},
   "outputs": [],
   "source": [
    "from blast_to_df import blast_to_df"
   ]
  },
  {
   "cell_type": "markdown",
   "metadata": {},
   "source": [
    "**Now note the error that occurs when we run the following line.**"
   ]
  },
  {
   "cell_type": "code",
   "execution_count": null,
   "metadata": {},
   "outputs": [],
   "source": [
    "blast_to_df()"
   ]
  },
  {
   "cell_type": "markdown",
   "metadata": {},
   "source": [
    "You should see that this error says it is missing `results` to act on because you passed it nothing. In other words, this means that the module was imported properly. If the module was not imported, we would've seen the error `ModuleNotFoundError: No module named 'blast_to_df'`.\n",
    "\n",
    "The approaches we're about to use work without intermediates. Instead of being directed to a file, the output from the BLAST command is directed to Python structures and commands. Then, the imported `blast_to_df` function is applied and the result is stored in a variable. In the end, the results remain in a dataframe within the notebook, allowing us to avoid reading the pickled dataframe.\n",
    "\n",
    "In general, it's still a good idea to save the pickled dataframe to avoid rerunning BLAST in the future."
   ]
  },
  {
   "cell_type": "markdown",
   "metadata": {},
   "source": [
    "#### Option 1\n",
    "\n",
    "This first example uses an approach illustrated [here](https://stackoverflow.com/a/42703609/8508004).  The result is of type `IPython.utils.text.SList`, which has some handy attributes detailed [here](http://ipython.readthedocs.io/en/stable/api/generated/IPython.utils.text.html#IPython.utils.text.SList)."
   ]
  },
  {
   "cell_type": "code",
   "execution_count": null,
   "metadata": {},
   "outputs": [],
   "source": [
    "!cat S288c.mt.genome.fa Y12.mt.genome.fa SK1.mt.genome.fa > pacbio.mt.fa\n",
    "result = !blastn -query pacbio.mt.fa -db chrmt.fsa -outfmt \"6 qseqid sseqid stitle pident qcovs length mismatch gapopen qstart qend sstart send qframe sframe frames evalue bitscore qseq sseq\" -task blastn\n",
    "blast_df = blast_to_df(result.n)\n",
    "blast_df.head()"
   ]
  },
  {
   "cell_type": "markdown",
   "metadata": {},
   "source": [
    "In preparation for demonstrating the other options, let's tag the pickled dataframe as corresponding to this demonstration above by running the next cell."
   ]
  },
  {
   "cell_type": "code",
   "execution_count": null,
   "metadata": {},
   "outputs": [],
   "source": [
    "!mv BLAST_pickled_df.pkl BLAST_pickled_dfOPT1.pkl"
   ]
  },
  {
   "cell_type": "markdown",
   "metadata": {},
   "source": [
    "\n",
    "#### Option 2\n",
    "\n",
    "In this option, [`%%capture` cell magics](http://ipython.readthedocs.io/en/stable/interactive/magics.html#cellmagic-capture) is used, and then using the attributes of the `utils.cpature` object we can get the output as a string (see [here]( http://ipython.readthedocs.io/en/stable/api/generated/IPython.utils.capture.html) for details)."
   ]
  },
  {
   "cell_type": "code",
   "execution_count": null,
   "metadata": {},
   "outputs": [],
   "source": [
    "%%capture out\n",
    "!cat S288c.mt.genome.fa Y12.mt.genome.fa SK1.mt.genome.fa > pacbio.mt.fa\n",
    "!blastn -query pacbio.mt.fa -db chrmt.fsa -outfmt \"6 qseqid sseqid stitle pident qcovs length mismatch gapopen qstart qend sstart send qframe sframe frames evalue bitscore qseq sseq\" -task blastn"
   ]
  },
  {
   "cell_type": "code",
   "execution_count": null,
   "metadata": {},
   "outputs": [],
   "source": [
    "from blast_to_df import blast_to_df\n",
    "blast_df = blast_to_df(out.stdout)\n",
    "!mv BLAST_pickled_df.pkl BLAST_pickled_dfOPT2.pkl\n",
    "blast_df.head()"
   ]
  },
  {
   "cell_type": "markdown",
   "metadata": {},
   "source": [
    "#### Option 3\n",
    "\n",
    "In this option, a varation of `%%bash` cell magic is used to send the output to a variable (see [here](https://stackoverflow.com/a/24776049/8508004) for details). (Note that the `%%bash` magic directs all contents in the cell to the bash shell.)"
   ]
  },
  {
   "cell_type": "code",
   "execution_count": null,
   "metadata": {},
   "outputs": [],
   "source": [
    "%%bash --out output\n",
    "cat S288c.mt.genome.fa Y12.mt.genome.fa SK1.mt.genome.fa > pacbio.mt.fa\n",
    "blastn -query pacbio.mt.fa -db chrmt.fsa -outfmt \"6 qseqid sseqid stitle pident qcovs length mismatch gapopen qstart qend sstart send qframe sframe frames evalue bitscore qseq sseq\""
   ]
  },
  {
   "cell_type": "code",
   "execution_count": null,
   "metadata": {},
   "outputs": [],
   "source": [
    "from blast_to_df import blast_to_df\n",
    "blast_df = blast_to_df(output, pickle_df=False)\n",
    "blast_df.head()"
   ]
  },
  {
   "cell_type": "markdown",
   "metadata": {},
   "source": [
    "Note that we provided an additional argument to the `blast_to_df()` function to indicate to not pickle the dataframe.\n",
    "\n",
    "\n",
    "-----"
   ]
  },
  {
   "cell_type": "markdown",
   "metadata": {},
   "source": [
    "## Processing many files using Python\n",
    "\n",
    "Suppose you have a large set of sequences to query or you only need a small subset of BLAST results. Then it wouldn't make sense to concatenate all of the associated files into a single Multi-FASTA file. Intead, you could use Python and an approach from the first section of this notebook."
   ]
  },
  {
   "cell_type": "code",
   "execution_count": null,
   "metadata": {},
   "outputs": [],
   "source": [
    "%%time\n",
    "import fnmatch\n",
    "import os\n",
    "import sys\n",
    "from blast_to_df import blast_to_df\n",
    "\n",
    "collected_scores = []\n",
    "\n",
    "for file in os.listdir('.'):\n",
    "    if fnmatch.fnmatch(file, '*.mt.genome.fa'):\n",
    "        blast_result = !blastn -query {file} -db chrmt.fsa -outfmt \"6 qseqid sseqid stitle pident qcovs length mismatch gapopen qstart qend sstart send qframe sframe frames evalue bitscore qseq sseq\" -task blastn\n",
    "        blast_df = blast_to_df(blast_result.n, pickle_df=False)\n",
    "        high_score_df = blast_df.sort_values('bitscore', ascending=False)\n",
    "        collected_scores.append(high_score_df.iloc[0][\"bitscore\"])\n",
    "        \n",
    "#print(collected_scores)\n",
    "sys.stderr.write(\"\\n\\n\\n\\nThe best scores were {}\".format(collected_scores))"
   ]
  },
  {
   "cell_type": "markdown",
   "metadata": {},
   "source": [
    "-----\n",
    "\n",
    "## Where to next?\n",
    "\n",
    "Another [notebook in this series, entitled 'Searching for coding sequences in genomes using BLAST and Python'](notebooks/Searching%20for%20coding%20sequences%20in%20genomes%20using%20BLAST%20and%20Python.ipynb) builds on what has been introduced in these two introductory notebooks. In the case of [the notebook 'Searching for coding sequences in genomes using BLAST and Python'](notebooks/Searching%20for%20coding%20sequences%20in%20genomes%20using%20BLAST%20and%20Python.ipynb) the task is to identify orthologs of a budding yeast gene in the genomes of some different strains and wild cousins.\n",
    "\n",
    "Also see [here](https://github.com/fomightez/patmatch-binder/blob/6f7630b2ee061079a72cd117127328fd1abfa6c7/notebooks/PatMatch%20with%20more%20Python.ipynb#Passing-results-data-into-active-memory-without-a-file-intermediate) and [here](https://github.com/fomightez/patmatch-binder/blob/6f7630b2ee061079a72cd117127328fd1abfa6c7/notebooks/Sending%20PatMatch%20output%20directly%20to%20Python.ipynb##Running-Patmatch-and-passing-the-results-to-Python-without-creating-an-output-file-intermediate) for similar methods of skipping file intermediates."
   ]
  }
 ],
 "metadata": {
  "kernelspec": {
   "display_name": "Python 2",
   "language": "python",
   "name": "python2"
  },
  "language_info": {
   "codemirror_mode": {
    "name": "ipython",
    "version": 2
   },
   "file_extension": ".py",
   "mimetype": "text/x-python",
   "name": "python",
   "nbconvert_exporter": "python",
   "pygments_lexer": "ipython2",
   "version": "2.7.15"
  }
 },
 "nbformat": 4,
 "nbformat_minor": 2
}
