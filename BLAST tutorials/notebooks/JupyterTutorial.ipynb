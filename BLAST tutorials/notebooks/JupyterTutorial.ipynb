{
 "cells": [
  {
   "cell_type": "markdown",
   "metadata": {},
   "source": [
    "![NCBI](NCBI.png)"
   ]
  },
  {
   "cell_type": "markdown",
   "metadata": {},
   "source": [
    "# A brief primer on Jupyter notebooks \n",
    "<p>Jupyter notebooks make it super easy to experiment with code. It lets you quickly create and execute new lines of code, without having to reprocess data or rerun code. Here are some tips about Jupyter notebooks:\n",
    "</p>\n",
    "\n",
    "<p>\n",
    "    <ul>\n",
    "        <li>Starting a cell with `!` or `%%bash` directs the cell's contents to the command line shell.\n",
    "        <li>To run a code cell, click on the cell and then hit <b>Shift+Enter</b>. This keystroke will also move you to the next cell, so hitting it repeatedly will move you through a notebook quickly.</li>\n",
    "        <li>While a cell is running a <b>*</b> appears in the square brackets next to the cell. Once the cell has finished running the asterix will be replaced with a number.</li>\n",
    "        <li>In most cases you'll want to start from the top of notebook and work your way down running each cell in turn. Later cells might depend on the results of earlier ones.</li>\n",
    "        <li>You can run one cell while another cell is still running. It will add the new command to a queue of commands to process.</li>\n",
    "        <li>To edit a code cell, just click on it and type stuff. Remember to run the cell once you've finished editing!</li>\n",
    "    </ul>\n",
    "You can learn more about Jupyter notebooks by visiting the official documentation <a href = https://www.jupyter.com>here</a>.\n",
    "</p>"
   ]
  }
 ],
 "metadata": {
  "kernelspec": {
   "display_name": "Python 2",
   "language": "python",
   "name": "python2"
  },
  "language_info": {
   "codemirror_mode": {
    "name": "ipython",
    "version": 2
   },
   "file_extension": ".py",
   "mimetype": "text/x-python",
   "name": "python",
   "nbconvert_exporter": "python",
   "pygments_lexer": "ipython2",
   "version": "2.7.15"
  }
 },
 "nbformat": 4,
 "nbformat_minor": 2
}
